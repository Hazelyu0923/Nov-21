{
 "cells": [
  {
   "cell_type": "markdown",
   "id": "8a29dab0",
   "metadata": {},
   "source": [
    "# STA130 Homework 08\n",
    "\n",
    "Please see the course [wiki-textbook](https://github.com/pointOfive/stat130chat130/wiki) for the list of topics covered in this homework assignment, and a list of topics that might appear during ChatBot conversations which are \"out of scope\" for the purposes of this homework assignment (and hence can be safely ignored if encountered)"
   ]
  },
  {
   "cell_type": "markdown",
   "id": "94eee301",
   "metadata": {},
   "source": [
    "<details class=\"details-example\"><summary style=\"color:blue\"><u>Introduction</u></summary>\n",
    "\n",
    "### Introduction\n",
    "    \n",
    "A reasonable characterization of STA130 Homework is that it simply defines a weekly reading comprehension assignment. \n",
    "Indeed, STA130 Homework essentially boils down to completing various understanding confirmation exercises oriented around coding and writing tasks.\n",
    "However, rather than reading a textbook, STA130 Homework is based on ChatBots so students can interactively follow up to clarify questions or confusion that they may still have regarding learning objective assignments.\n",
    "\n",
    "> Communication is a fundamental skill underlying statistics and data science, so STA130 Homework based on ChatBots helps practice effective two-way communication as part of a \"realistic\" dialogue activity supporting underlying conceptual understanding building. \n",
    "\n",
    "It will likely become increasingly tempting to rely on ChatBots to \"do the work for you\". But when you find yourself frustrated with a ChatBots inability to give you the results you're looking for, this is a \"hint\" that you've become overreliant on the ChatBots. Your objective should not be to have ChatBots \"do the work for you\", but to use ChatBots to help you build your understanding so you can efficiently leverage ChatBots (and other resources) to help you work more efficiently.<br><br>\n",
    "\n",
    "</details>\n",
    "\n",
    "<details class=\"details-example\"><summary style=\"color:blue\"><u>Instructions</u></summary>\n",
    "\n",
    "### Instructions\n",
    "    \n",
    "1. Code and write all your answers (for both the \"Pre-lecture\" and \"Post-lecture\" HW) in a python notebook (in code and markdown cells) \n",
    "    \n",
    "> It is *suggested but not mandatory* that you complete the \"Pre-lecture\" HW prior to the Monday LEC since (a) all HW is due at the same time; but, (b) completing some of the HW early will mean better readiness for LEC and less of a \"procrastentation cruch\" towards the end of the week...\n",
    "    \n",
    "2. Paste summaries of your ChatBot sessions (including link(s) to chat log histories if you're using ChatGPT) within your notebook\n",
    "    \n",
    "> Create summaries of your ChatBot sessions by using concluding prompts such as \"Please provide a summary of our exchanges here so I can submit them as a record of our interactions as part of a homework assignment\" or, \"Please provide me with the final working verson of the code that we created together\"\n",
    "    \n",
    "3. Save your python jupyter notebook in your own account and \"repo\" on [github.com](github.com) and submit a link to that notebook though Quercus for assignment marking<br><br>\n",
    "\n",
    "</details>\n",
    "\n",
    "<details class=\"details-example\"><summary style=\"color:blue\"><u>Prompt Engineering?</u></summary>\n",
    "    \n",
    "### Prompt Engineering? \n",
    "    \n",
    "The questions (as copy-pasted prompts) are designed to initialize appropriate ChatBot conversations which can be explored in the manner of an interactive and dynamic textbook; but, it is nonetheless **strongly recommendated** that your rephrase the questions in a way that you find natural to ensure a clear understanding of the question. Given sensible prompts the represent a question well, the two primary challenges observed to arise from ChatBots are \n",
    "\n",
    "1. conversations going beyond the intended scope of the material addressed by the question; and, \n",
    "2. unrecoverable confusion as a result of sequential layers logial inquiry that cannot be resolved. \n",
    "\n",
    "In the case of the former (1), adding constraints specifying the limits of considerations of interest tends to be helpful; whereas, the latter (2) is often the result of initial prompting that leads to poor developments in navigating the material, which are likely just best resolve by a \"hard reset\" with a new initial approach to prompting.  Indeed, this is exactly the behavior [hardcoded into copilot](https://answers.microsoft.com/en-us/bing/forum/all/is-this-even-normal/0b6dcab3-7d6c-4373-8efe-d74158af3c00)...\n",
    "\n",
    "</details>"
   ]
  },
  {
   "cell_type": "markdown",
   "id": "ffbc1200",
   "metadata": {},
   "source": [
    "### Marking Rubric (which may award partial credit)\n",
    "- [0.1 points]: All relevant ChatBot summaries [including link(s) to chat log histories if you're using ChatGPT] are reported within the notebook\n",
    "- [0.2 points]: Well-communicated and sensible answers for Question \"2\"\n",
    "- [0.2 points]: Correct code and well-communicated correct answer for Question \"4\" \n",
    "- [0.2 points]: Correct calculations for requested metrics in Question \"6\" \n",
    "- [0.3 points]: Correct and well-communicated explanation of differences for Question \"7\" \n",
    "<!-- - [0.1 points]: Written submission evaluation and enagement confirmation with ChatBot summaries for \"8\", \"10\"-->\n",
    "\n"
   ]
  },
  {
   "cell_type": "markdown",
   "id": "67686639",
   "metadata": {},
   "source": [
    "## \"Pre-lecture\" HW [*completion prior to next LEC is suggested but not mandatory*]"
   ]
  },
  {
   "cell_type": "markdown",
   "id": "54a53734",
   "metadata": {},
   "source": [
    "\n",
    "### 1. Start a ChatBot session to understand what a *Classification Decision Tree* is: (a) ask the ChatBot to describe the type of problem a *Classification Decision Tree* addresses and provide some examples of real-world applications where this might be particularly useful, and then (b) make sure you understand the difference between how a *Classification Decision Tree* makes *(classification) predictions* versus how *Multiple Linear Regression* makes *(regression) predictions*<br>\n",
    "\n",
    "<details class=\"details-example\"><summary style=\"color:blue\"><u>Further Guidance</u></summary>\n",
    "\n",
    "> _The first part (a) of this question is looking for you to understand the difference between **classification** and **regression**. The second part (b) of the questions is looking for a fairly high level understanding of the general nature of a decision tree and how it is based on making sequential decisions down the *nodes* of *tree* in order to eventually make a final prediction. This part (b) is essentially the **Classification Decision Tree** analog of \"explain how the **linear form** makes a prediciton in **Multiple Linear Regression** generally speaking\"; namely,\"explain how the **tree** makes a prediciton in a **Classification Decision Tree** generally speaking\"._\n",
    "> \n",
    "> _**If you're struggling with this, it would probably be most helpful to go search for and some images of example decision trees to look at!**_\n",
    "> \n",
    "> - _You may be beginning to realize or will nonetheless eventually come to understand that the sequential decisions at each stage of the **Decision Tree** are **interactions** (in the same manner as **interactions** in **Multiple Linear Regression**.  Once you start to see that and it's making sense to you then you'll increasingly appreciate how **complex** **Decision Tree** models can be, even though they're pretty simple to understand if you just look at one._\n",
    ">\n",
    "> ---\n",
    ">    \n",
    "> _When using chatbots, it's often more effective (and enjoyable) to ask concise, single questions rather than presenting complex, multi-part queries. This approach can help in obtaining clearer and more specific responses (that might be more enjoyable to interact with). You can always ask multi-part questions as a series of additional sequential questions. With this approach, chatbots may not automatically reiterate previously explained concepts. So if you need a refresher or further explanation on a topic discussed earlier, just explicitly request during follow-up interactions._\n",
    "> \n",
    "> ---\n",
    "> \n",
    "> _Don't forget to ask for summaries of all your different ChatBot sessions and organize and paste these into your homework notebook (including link(s) to chat log histories if you're using ChatBot); but, if you're using the STA130 custom NBLM ChatBot, you'll only be able to ask for summaries, of course!_ \n",
    "    \n",
    "</details>"
   ]
  },
  {
   "cell_type": "markdown",
   "id": "dab3d013",
   "metadata": {},
   "source": [
    "#### Classification Decision Tree:"
   ]
  },
  {
   "cell_type": "markdown",
   "id": "88034b9b",
   "metadata": {},
   "source": [
    "Predicts discrete class labels (e.g., \"Spam\" or \"Not Spam\") by splitting the feature space into regions using decision rules.\n",
    "\n",
    "Handles non-linear relationships and can provide class probabilities.\n",
    "\n",
    "Works well for classification problems with interpretable \"if-then\" rules."
   ]
  },
  {
   "cell_type": "markdown",
   "id": "8a398d0d",
   "metadata": {},
   "source": [
    "#### Multiple Linear Regression:"
   ]
  },
  {
   "cell_type": "markdown",
   "id": "290a68d8",
   "metadata": {},
   "source": [
    "Predicts continuous numeric values (e.g., house prices) by modeling a linear relationship between features and the target.\n",
    "\n",
    "Assumes a linear relationship and minimizes the sum of squared errors.\n",
    "\n",
    "Best suited for regression tasks where the output is continuous.\n"
   ]
  },
  {
   "cell_type": "markdown",
   "id": "d5ea100b",
   "metadata": {},
   "source": [
    "https://chatgpt.com/share/673fc2db-9ca4-8006-9261-bdee2964c2c5"
   ]
  },
  {
   "cell_type": "markdown",
   "id": "6bbf97d1",
   "metadata": {},
   "source": [
    "### 2. Continue your ChatBot session and explore with your ChatBot what real-world application scenario(s) might be most appropriately addressed by each of the following *metrics* below: provide your answers and, in your own words, *concisely explain your rationale for your answers.*<br>\n",
    "\n",
    "\n",
    "1. **Accuracy** measures the proportion of true results (both true positives and true negatives) in the population.\n",
    "\n",
    "$$\\text{Accuracy} = \\frac{TP + TN}{TP + TN + FP + FN}$$\n",
    "    \n",
    "2. **Sensitivity** measures the proportion of actual positives that are correctly identified.\n",
    "\n",
    "$$\\text{Sensitivity} = \\frac{TP}{TP + FN}$$\n",
    "\n",
    "3. **Specificity** measures the proportion of actual negatives that are correctly identified.\n",
    "\n",
    "$$\\text{Specificity} = \\frac{TN}{TN + FP}$$\n",
    "\n",
    "4. **Precision** measures the proportion of positive identifications that were actually correct.\n",
    "\n",
    "$$\\text{Precision} = \\frac{TP}{TP + FP}$$\n",
    "\n",
    "<details class=\"details-example\"><summary style=\"color:blue\"><u>Further Guidance</u></summary>\n",
    "\n",
    "> _This question could be restated as, \"Give examples of real-world examples where each of these **metrics** would be particularly useful.\"_\n",
    ">\n",
    "> _The primary objective here is to understand the distinction between each of these **metrics**. The secondary objective is to notice how the nature of the decision-making that each of these **metrics** most naturally supports is very distinct, ideally based on identifying memorable examples that really distinguish between the **metrics**._\n",
    ">\n",
    "> - _Have a look at this (greatly expanded) handy list of additional metrics, formulas, and synonyms at the following [wikipedia page](https://en.wikipedia.org/wiki/Sensitivity_and_specificity) if you want this to get real crazy real fast._\n",
    ">    \n",
    "> ---\n",
    "> \n",
    "> _Don't forget to ask for summaries of all your different ChatBot sessions and organize and paste these into your homework notebook (including link(s) to chat log histories if you're using ChatBot); but, if you're using the STA130 custom NBLM ChatBot, you'll only be able to ask for summaries, of course!_ \n",
    "    \n",
    "</details>"
   ]
  },
  {
   "cell_type": "markdown",
   "id": "406e6a60",
   "metadata": {},
   "source": [
    "#### 1. Accuracy"
   ]
  },
  {
   "cell_type": "markdown",
   "id": "2014fb55",
   "metadata": {},
   "source": [
    "Best Use Case:\n",
    "\n",
    "When false positives and false negatives have similar consequences, and the dataset is evenly balanced.\n",
    "\n",
    "Examples:\n",
    "\n",
    "Product Quality Check: Deciding if a product meets standards, where both accepting a faulty product and rejecting a good one are equally problematic.\n",
    "Weather Forecasting: Predicting sunny or rainy days, where both missing a rain prediction and wrongly forecasting rain have similar importance.\n"
   ]
  },
  {
   "cell_type": "markdown",
   "id": "f7766e8c",
   "metadata": {},
   "source": [
    "#### 2. Sensitivity"
   ]
  },
  {
   "cell_type": "markdown",
   "id": "0646b2ab",
   "metadata": {},
   "source": [
    "Best Use Case:\n",
    "    \n",
    "When missing a positive case (false negative) is much worse than mistakenly identifying one (false positive).\n",
    "\n",
    "Examples:\n",
    "\n",
    "Medical Diagnosis: Detecting illnesses like cancer, where missing a case can delay treatment and have serious consequences.\n",
    "Fraud Detection: Spotting fraudulent transactions, where missing fraud can cause big financial losses.\n",
    "Search and Rescue: Finding distress signals, where missing one could risk lives.\n"
   ]
  },
  {
   "cell_type": "markdown",
   "id": "7b88814f",
   "metadata": {},
   "source": [
    "#### 3.Specificity"
   ]
  },
  {
   "cell_type": "markdown",
   "id": "25e2b3a4",
   "metadata": {},
   "source": [
    "Best Use Case:\n",
    "\n",
    "When falsely identifying something as positive (false positive) is much worse than missing a positive case (false negative).\n",
    "\n",
    "Examples:\n",
    "\n",
    "Spam Detection: Making sure legitimate emails aren’t wrongly marked as spam.\n",
    "Background Checks: Ensuring people without criminal records aren’t mistakenly flagged.\n",
    "Drug Trials: Avoiding wrongly labeling a safe drug as harmful to prevent unnecessary removal."
   ]
  },
  {
   "cell_type": "markdown",
   "id": "72a6816f",
   "metadata": {},
   "source": [
    "#### 4. Precision"
   ]
  },
  {
   "cell_type": "markdown",
   "id": "14d2aff9",
   "metadata": {},
   "source": [
    "Best Use Case: \n",
    "\n",
    "When false positives are costly, and the focus is on making accurate positive predictions.\n",
    "\n",
    "Examples:\n",
    "\n",
    "Targeted Marketing: Making sure ads reach people genuinely interested in the product to get the best results.\n",
    "Recommendation Systems: Ensuring suggested items, like movies or products, are truly relevant to the user.\n",
    "Hiring Systems: Ensuring only qualified candidates are selected, as hiring the wrong person can be expensive.\n"
   ]
  },
  {
   "cell_type": "markdown",
   "id": "270c85e9",
   "metadata": {},
   "source": [
    "Summary of Metrics and Applications\n",
    "Accuracy: Best for balanced datasets and when both false positives and false negatives are equally costly. Example: Product quality control or general weather prediction.\n",
    "\n",
    "Sensitivity (Recall): Prioritize when missing positive cases (false negatives) is critical. Example: Medical diagnosis, fraud detection, or search and rescue.\n",
    "\n",
    "Specificity: Important when avoiding false positives is crucial. Example: Spam detection, criminal background checks, or drug trials.\n",
    "\n",
    "Precision: Focused on the reliability of positive predictions when false positives are costly. Example: Targeted marketing, recommendation systems, or hiring processes.\n",
    "\n",
    "Each metric suits specific scenarios based on the trade-offs between false positives and false negatives."
   ]
  },
  {
   "cell_type": "markdown",
   "id": "be38edbc",
   "metadata": {},
   "source": [
    "https://chatgpt.com/share/673fc2db-9ca4-8006-9261-bdee2964c2c5"
   ]
  },
  {
   "cell_type": "markdown",
   "id": "f58bd64b",
   "metadata": {},
   "source": [
    "### 3. Explore the amazon books dataset, seen previously at the start of the semester, providing some initital standard *exploratory data analysis (EDA)* and data summarization after pre-processing the dataset to meet the requirements below<br>\n",
    "\n",
    " 1. remove `Weight_oz`, `Width`, and `Height` \n",
    " 2. drop all remaining rows with `NaN` entries \n",
    " 3. set `Pub year` and `NumPages` to have the type `int`, and `Hard_or_Paper` to have the type `category`\n",
    "\n",
    "<details class=\"details-example\"><summary style=\"color:blue\"><u>Further Guidance</u></summary>\n",
    "\n",
    "> _`NaN` entries can't be used in their raw form with the `scikit-learn` methodologies, so we do need to remove them to proceed with our analyses._\n",
    ">     \n",
    "> _Only remove rows with `NaN` entries once you've subset to the columns you're interested in. This will minimize potentially unnecessary data loss..._\n",
    ">\n",
    "> _It would be possible to consider imputing missing data to further mitigate data loss, but the considerations for doing so are more advanced than the level of our course, so we'll not consider that for now._ \n",
    "\n",
    "</details>"
   ]
  },
  {
   "cell_type": "code",
   "execution_count": 15,
   "id": "e4b50624",
   "metadata": {},
   "outputs": [],
   "source": [
    "import pandas as pd\n",
    "import numpy as np\n",
    "from sklearn import tree\n",
    "from sklearn.model_selection import train_test_split\n",
    "from sklearn.metrics import confusion_matrix, ConfusionMatrixDisplay\n",
    "from sklearn.metrics import accuracy_score, recall_score, make_scorer\n",
    "import graphviz as gv\n",
    "\n",
    "url = \"https://raw.githubusercontent.com/pointOfive/STA130_F23/main/Data/amazonbooks.csv\"\n",
    "ab = pd.read_csv(url, encoding=\"ISO-8859-1\")\n",
    "# create `ab_reduced_noNaN` based on the specs above"
   ]
  },
  {
   "cell_type": "code",
   "execution_count": 16,
   "id": "0464124f",
   "metadata": {},
   "outputs": [
    {
     "name": "stdout",
     "output_type": "stream",
     "text": [
      "                                               Title           Author  \\\n",
      "0  1,001 Facts that Will Scare the S#*t Out of Yo...      Cary McNeal   \n",
      "1  21: Bringing Down the House - Movie Tie-In: Th...      Ben Mezrich   \n",
      "2       100 Best-Loved Poems (Dover Thrift Editions)            Smith   \n",
      "3            1421: The Year China Discovered America    Gavin Menzies   \n",
      "4    1493: Uncovering the New World Columbus Created  Charles C. Mann   \n",
      "\n",
      "   List Price  Amazon Price Hard_or_Paper  NumPages           Publisher  \\\n",
      "0       12.95          5.18             P       304         Adams Media   \n",
      "1       15.00         10.20             P       273          Free Press   \n",
      "2        1.50          1.50             P        96  Dover Publications   \n",
      "3       15.99         10.87             P       672    Harper Perennial   \n",
      "4       30.50         16.77             P       720               Knopf   \n",
      "\n",
      "   Pub year     ISBN-10  Thick  \n",
      "0      2010  1605506249    0.8  \n",
      "1      2008  1416564195    0.7  \n",
      "2      1995   486285537    0.3  \n",
      "3      2008    61564893    1.6  \n",
      "4      2011   307265722    1.4  \n"
     ]
    },
    {
     "name": "stderr",
     "output_type": "stream",
     "text": [
      "/tmp/ipykernel_70/575641292.py:15: SettingWithCopyWarning: \n",
      "A value is trying to be set on a copy of a slice from a DataFrame.\n",
      "Try using .loc[row_indexer,col_indexer] = value instead\n",
      "\n",
      "See the caveats in the documentation: https://pandas.pydata.org/pandas-docs/stable/user_guide/indexing.html#returning-a-view-versus-a-copy\n",
      "  ab_reduced_noNaN['Pub year'] = ab_reduced_noNaN['Pub year'].astype(int)\n",
      "/tmp/ipykernel_70/575641292.py:16: SettingWithCopyWarning: \n",
      "A value is trying to be set on a copy of a slice from a DataFrame.\n",
      "Try using .loc[row_indexer,col_indexer] = value instead\n",
      "\n",
      "See the caveats in the documentation: https://pandas.pydata.org/pandas-docs/stable/user_guide/indexing.html#returning-a-view-versus-a-copy\n",
      "  ab_reduced_noNaN['NumPages'] = ab_reduced_noNaN['NumPages'].astype(int)\n",
      "/tmp/ipykernel_70/575641292.py:19: SettingWithCopyWarning: \n",
      "A value is trying to be set on a copy of a slice from a DataFrame.\n",
      "Try using .loc[row_indexer,col_indexer] = value instead\n",
      "\n",
      "See the caveats in the documentation: https://pandas.pydata.org/pandas-docs/stable/user_guide/indexing.html#returning-a-view-versus-a-copy\n",
      "  ab_reduced_noNaN['Hard_or_Paper'] = ab_reduced_noNaN['Hard_or_Paper'].astype('category')\n"
     ]
    }
   ],
   "source": [
    "import pandas as pd\n",
    "\n",
    "# Load the dataset\n",
    "url = \"https://raw.githubusercontent.com/pointOfive/STA130_F23/main/Data/amazonbooks.csv\"\n",
    "ab = pd.read_csv(url, encoding=\"ISO-8859-1\")\n",
    "\n",
    "# Remove specified columns\n",
    "columns_to_remove = [\"Weight_oz\", \"Width\", \"Height\"]\n",
    "ab_reduced = ab.drop(columns=columns_to_remove)\n",
    "\n",
    "# Drop rows with any NaN entries\n",
    "ab_reduced_noNaN = ab_reduced.dropna()\n",
    "\n",
    "# Convert 'Pub year' and 'NumPages' to integers\n",
    "ab_reduced_noNaN['Pub year'] = ab_reduced_noNaN['Pub year'].astype(int)\n",
    "ab_reduced_noNaN['NumPages'] = ab_reduced_noNaN['NumPages'].astype(int)\n",
    "\n",
    "# Convert 'Hard_or_Paper' to a categorical type\n",
    "ab_reduced_noNaN['Hard_or_Paper'] = ab_reduced_noNaN['Hard_or_Paper'].astype('category')\n",
    "\n",
    "# Display the first few rows of the processed DataFrame\n",
    "print(ab_reduced_noNaN.head())\n"
   ]
  },
  {
   "cell_type": "markdown",
   "id": "c225c340",
   "metadata": {},
   "source": [
    "### 4. Create an 80/20 split with 80% of the data as a training set *ab_reduced_noNaN_train* and 20% of the data testing set  *ab_reduced_noNaN_test* using either *df.sample(...)* as done in TUT or using *train_test_split(...)* as done in the previous HW, and report on how many observations there are in the training data set and the test data set.<br><br>Tell a ChatBot that you are about to fit a \"scikit-learn\" *DecisionTreeClassifier* model and ask what the two steps given below are doing; then use your ChatBots help to write code to \"train\" a classification tree *clf* using only the *List Price* variable to predict whether or not a book is a hard cover or paper back book using a *max_depth* of *2*; finally use *tree.plot_tree(clf)* to explain what *predictions* are made based on *List Price* for the fitted *clf* model\n",
    "\n",
    "```python\n",
    "y = pd.get_dummies(ab_reduced_noNaN[\"Hard_or_Paper\"])['H']\n",
    "X = ab_reduced_noNaN[['List Price']]\n",
    "```\n",
    "<details class=\"details-example\"><summary style=\"color:blue\"><u>Further Guidance</u></summary>\n",
    "\n",
    "> _To complete the final 80/20 split of the **observations** in a reproducible way, set a \"random seed\"._ \n",
    "> \n",
    "> - _A single **observation** consists of all the measurements made on a single entity, typically corresponding to a row of a data frame. In **Machine Learning**, a collection of values of interest measured for a single entity is called a \"vector\" and so the **observation** is referred to as a **vector**_.\n",
    ">    \n",
    "> _Asking the ChatBot about \"DecisionTreeClassifier .fit(...)\" can be helpful here..._\n",
    "> \n",
    "> _Should you use the \"ab_reduced_noNaN\" data, or the \"ab_reduced_noNaN_train\" data, or the \"ab_reduced_noNaN_test\" data to initially fit the classification tree? Why?_\n",
    ">    \n",
    "> _You can visualize your decision tree using the `tree.plot_tree(clf)` function shown in the `sklearn` documentation [here](\n",
    "https://scikit-learn.org/stable/auto_examples/tree/plot_unveil_tree_structure.html#what-is-the-values-array-used-here) and [here](https://scikit-learn.org/stable/modules/tree.html); but, to make it more immediately readible it might be better to use `graphviz`, which is demonstrated in the `sklearn` documentation [here](https://scikit-learn.org/stable/modules/tree.html#alternative-ways-to-export-trees)_ \n",
    ">    \n",
    "> ---\n",
    "> \n",
    "> _Don't forget to ask for summaries of all your different ChatBot sessions and organize and paste these into your homework notebook (including link(s) to chat log histories if you're using ChatBot); but, if you're using the STA130 custom NBLM ChatBot, you'll only be able to ask for summaries, of course!_ \n",
    "    \n",
    "</details>"
   ]
  },
  {
   "cell_type": "code",
   "execution_count": 18,
   "id": "25b32bef",
   "metadata": {},
   "outputs": [
    {
     "name": "stderr",
     "output_type": "stream",
     "text": [
      "/tmp/ipykernel_70/1793579749.py:10: SettingWithCopyWarning: \n",
      "A value is trying to be set on a copy of a slice from a DataFrame.\n",
      "Try using .loc[row_indexer,col_indexer] = value instead\n",
      "\n",
      "See the caveats in the documentation: https://pandas.pydata.org/pandas-docs/stable/user_guide/indexing.html#returning-a-view-versus-a-copy\n",
      "  ab_reduced_noNaN['Pub year'] = ab_reduced_noNaN['Pub year'].astype(int)\n",
      "/tmp/ipykernel_70/1793579749.py:11: SettingWithCopyWarning: \n",
      "A value is trying to be set on a copy of a slice from a DataFrame.\n",
      "Try using .loc[row_indexer,col_indexer] = value instead\n",
      "\n",
      "See the caveats in the documentation: https://pandas.pydata.org/pandas-docs/stable/user_guide/indexing.html#returning-a-view-versus-a-copy\n",
      "  ab_reduced_noNaN['NumPages'] = ab_reduced_noNaN['NumPages'].astype(int)\n",
      "/tmp/ipykernel_70/1793579749.py:12: SettingWithCopyWarning: \n",
      "A value is trying to be set on a copy of a slice from a DataFrame.\n",
      "Try using .loc[row_indexer,col_indexer] = value instead\n",
      "\n",
      "See the caveats in the documentation: https://pandas.pydata.org/pandas-docs/stable/user_guide/indexing.html#returning-a-view-versus-a-copy\n",
      "  ab_reduced_noNaN['Hard_or_Paper'] = ab_reduced_noNaN['Hard_or_Paper'].astype('category')\n"
     ]
    }
   ],
   "source": [
    "import pandas as pd\n",
    "\n",
    "# Reload the dataset from the URL or local file\n",
    "url = \"https://raw.githubusercontent.com/pointOfive/STA130_F23/main/Data/amazonbooks.csv\"\n",
    "ab = pd.read_csv(url, encoding=\"ISO-8859-1\")\n",
    "\n",
    "# Preprocess the dataset\n",
    "ab_reduced = ab.drop(columns=[\"Weight_oz\", \"Width\", \"Height\"])\n",
    "ab_reduced_noNaN = ab_reduced.dropna()\n",
    "ab_reduced_noNaN['Pub year'] = ab_reduced_noNaN['Pub year'].astype(int)\n",
    "ab_reduced_noNaN['NumPages'] = ab_reduced_noNaN['NumPages'].astype(int)\n",
    "ab_reduced_noNaN['Hard_or_Paper'] = ab_reduced_noNaN['Hard_or_Paper'].astype('category')\n"
   ]
  },
  {
   "cell_type": "code",
   "execution_count": 19,
   "id": "8cb85735",
   "metadata": {},
   "outputs": [
    {
     "data": {
      "image/png": "[encoded data removed]",
      "text/plain": [
       "<Figure size 1200x800 with 1 Axes>"
      ]
     },
     "metadata": {},
     "output_type": "display_data"
    }
   ],
   "source": [
    "from sklearn.tree import DecisionTreeClassifier\n",
    "import matplotlib.pyplot as plt\n",
    "\n",
    "# Create an 80/20 split for training and testing\n",
    "ab_reduced_noNaN_train = ab_reduced_noNaN.sample(frac=0.8, random_state=42)\n",
    "ab_reduced_noNaN_test = ab_reduced_noNaN.drop(ab_reduced_noNaN_train.index)\n",
    "\n",
    "# Prepare the target variable (y) and feature (X)\n",
    "y_train = pd.get_dummies(ab_reduced_noNaN_train[\"Hard_or_Paper\"])['H']\n",
    "X_train = ab_reduced_noNaN_train[['List Price']]\n",
    "\n",
    "y_test = pd.get_dummies(ab_reduced_noNaN_test[\"Hard_or_Paper\"])['H']\n",
    "X_test = ab_reduced_noNaN_test[['List Price']]\n",
    "\n",
    "# Fit a DecisionTreeClassifier model\n",
    "clf = DecisionTreeClassifier(max_depth=2, random_state=42)\n",
    "clf.fit(X_train, y_train)\n",
    "\n",
    "# Visualize the decision tree\n",
    "plt.figure(figsize=(12, 8))\n",
    "tree.plot_tree(clf, feature_names=[\"List Price\"], class_names=[\"Paper\", \"Hard\"], filled=True)\n",
    "plt.show()\n"
   ]
  },
  {
   "cell_type": "markdown",
   "id": "53286d05",
   "metadata": {},
   "source": [
    "https://chatgpt.com/share/673fd176-5f28-8006-bada-924c9dead497"
   ]
  },
  {
   "cell_type": "markdown",
   "id": "f2ac0e5b",
   "metadata": {},
   "source": [
    "<details class=\"details-example\"><summary style=\"color:blue\"><u>Continue now...?</u></summary>\n",
    "\n",
    "### Pre-lecture VS Post-lecture HW\n",
    "\n",
    "Feel free to work on the \"Post-lecture\" HW below if you're making good progress and want to continue: for **HW 08** this could be reasonable because, as you'll see, the process of creating and using **classification decision trees** is quite similar to the process for creating and using **multiple linear regression** models. There are differences of course, such as how there is **coefficient hypothesis testing** in **multiple linear regression** and **confusion matrices** in **classification decision trees**, and so on. But you would very likely be able to leverage the silarities to make a lot of progress with **classification decision trees** based on your experience with **multiple linear regression**.\n",
    "    \n",
    "*The benefits of continue would are that (a) Consolidate the knowledge already learned and integrate it comprehensively. (b) Let you build experience interacting with ChatBots (and understand their strengths and limitations in this regard)... it's good to have sense of when using a ChatBot is the best way to figure something out, or if another approach (such as course provided resources or a plain old websearch for the right resourse) would be more effective*\n",
    "    \n",
    "</details>    "
   ]
  },
  {
   "cell_type": "markdown",
   "id": "d75e7d3e",
   "metadata": {},
   "source": [
    "## \"Post-lecture\" HW [*submission along with \"Pre-lecture\" HW is due prior to next TUT*]\n"
   ]
  },
  {
   "cell_type": "markdown",
   "id": "98b3ce1f",
   "metadata": {},
   "source": [
    "### 5. Repeat the previous problem but this time visualize the *classification decision tree* based on the following specifications below; then explain generally how predictions are made for the *clf2* model<br>\n",
    "\n",
    "1. `X = ab_reduced_noNaN[['NumPages', 'Thick', 'List Price']]`\n",
    "2. `max_depth` set to `4`\n",
    "\n",
    "<details class=\"details-example\"><summary style=\"color:blue\"><u>Further Guidance</u></summary>\n",
    "\n",
    "> - _Use the same **train/test split** dataset used so far_\n",
    "> - _Train the **classification decision tree** `clf2` using **predictor variables** `NumPages`, `Thick` and `List Price`_ \n",
    "> - _Again **predict** whether or not a book is hard cover book or a paper back book_\n",
    "> - _You can visualize your decision tree using the `tree.plot_tree(clf)` function shown in the `sklearn` documentation [here](\n",
    "https://scikit-learn.org/stable/auto_examples/tree/plot_unveil_tree_structure.html#what-is-the-values-array-used-here) and [here](https://scikit-learn.org/stable/modules/tree.html); but, to make it more immediately readible it might be better to use `graphviz`, which is demonstrated in the `sklearn` documentation [here](https://scikit-learn.org/stable/modules/tree.html#alternative-ways-to-export-trees)_\n",
    ">\n",
    "> _If you are interested in how to find the best `max_depth` for a tree, ask ChatBot about \"GridSearchCV\"_\n",
    ">    \n",
    "> ---\n",
    "> \n",
    "> _Don't forget to ask for summaries of all your different ChatBot sessions and organize and paste these into your homework notebook (including link(s) to chat log histories if you're using ChatBot); but, if you're using the STA130 custom NBLM ChatBot, you'll only be able to ask for summaries, of course!_ \n",
    "    \n",
    "</details>"
   ]
  },
  {
   "cell_type": "markdown",
   "id": "d889386a",
   "metadata": {},
   "source": [
    "### 6. Use previously created *ab_reduced_noNaN_test* to create confusion matrices for *clf* and *clf2*. Report the sensitivity, specificity and accuracy for each of the models<br>\n",
    "\n",
    "<details class=\"details-example\"><summary style=\"color:blue\"><u>Further Guidance</u></summary>\n",
    "\n",
    "> _Hopefully you immediately thought to ask ChatBot to help you with this problem, but if you did you should take time to make sure you're clear about the key components of what the ChatBot is providing for you. You might want to know_\n",
    "> - _what is a \"positive\" and what is a \"negative\"_\n",
    "> - _how to read an `sklearn` confusion matrix_\n",
    "> - _what leads to TP, TN, FP, and FN_\n",
    "> - _whether `y_true` or `y_pred` go first in the `confusion_matrix` function_   \n",
    ">\n",
    "> _Have the visualizations you make use decimal numbers with three signifiant digits, such as `0.123` (and not as percentages like `12.3%`), probably based on `np.round()`_\n",
    ">    \n",
    "> ---\n",
    "> \n",
    "> _Don't forget to ask for summaries of all your different ChatBot sessions and organize and paste these into your homework notebook (including link(s) to chat log histories if you're using ChatBot); but, if you're using the STA130 custom NBLM ChatBot, you'll only be able to ask for summaries, of course!_ \n",
    "       \n",
    "</details>"
   ]
  },
  {
   "cell_type": "markdown",
   "id": "c70e1e6a",
   "metadata": {},
   "source": [
    "#### 1. What is a \"positive\" and what is a \"negative\"?"
   ]
  },
  {
   "cell_type": "markdown",
   "id": "a45774e0",
   "metadata": {},
   "source": [
    "Positive: The class of interest or the class you're primarily trying to detect. Often denoted as \"1\".\n",
    "Negative: The other class, often the default or not-of-interest class. Often denoted as \"0\".\n",
    "For binary classification, the labels are typically 1 (positive) and 0 (negative), but this can vary depending on your problem (e.g., disease vs. healthy, fraud vs. no fraud).\n"
   ]
  },
  {
   "cell_type": "markdown",
   "id": "d4ead67b",
   "metadata": {},
   "source": [
    "#### 2. How to read an sklearn confusion matrix?"
   ]
  },
  {
   "cell_type": "markdown",
   "id": "f9fa78ac",
   "metadata": {},
   "source": [
    "sklearn.metrics.confusion_matrix produces a 2x2 matrix in this order:\n",
    "\n",
    "[  TN FP\n",
    "   FN TP ]\n",
    "\n",
    "Components:\n",
    "True Negatives (TN): The model correctly predicts a negative instance as negative.\n",
    "\n",
    "False Positives (FP): The model incorrectly predicts a negative instance as positive (Type I error).\n",
    "\n",
    "False Negatives (FN): The model incorrectly predicts a positive instance as negative (Type II error).\n",
    "\n",
    "True Positives (TP): The model correctly predicts a positive instance as positive.\n"
   ]
  },
  {
   "cell_type": "markdown",
   "id": "00193649",
   "metadata": {},
   "source": [
    "#### 3. What leads to TP, TN, FP, and FN?"
   ]
  },
  {
   "cell_type": "markdown",
   "id": "44441f31",
   "metadata": {},
   "source": [
    "True Positive (TP):\n",
    "\n",
    "Condition: y_true = 1 and y_pred = 1\n",
    "    \n",
    "The model identifies the positive case correctly.\n",
    "\n",
    "True Negative (TN):\n",
    "\n",
    "Condition: y_true = 0 and y_pred = 0\n",
    "    \n",
    "The model identifies the negative case correctly.\n",
    "\n",
    "False Positive (FP):\n",
    "\n",
    "Condition: y_true = 0 but y_pred = 1\n",
    "    \n",
    "The model incorrectly predicts a negative case as positive.\n",
    "\n",
    "False Negative (FN):\n",
    "\n",
    "Condition: y_true = 1 but y_pred = 0\n",
    "    \n",
    "The model incorrectly predicts a positive case as negative.\n"
   ]
  },
  {
   "cell_type": "markdown",
   "id": "54603f7d",
   "metadata": {},
   "source": [
    "#### 4. Which comes first in the confusion_matrix function, y_true or y_pred?"
   ]
  },
  {
   "cell_type": "code",
   "execution_count": null,
   "id": "5cccbcbd",
   "metadata": {},
   "outputs": [],
   "source": [
    "confusion_matrix(y_true, y_pred)"
   ]
  },
  {
   "cell_type": "markdown",
   "id": "82b27017",
   "metadata": {},
   "source": [
    "https://chatgpt.com/share/673fd458-5508-8006-b8a9-2dccefa26877"
   ]
  },
  {
   "cell_type": "markdown",
   "id": "72576c25",
   "metadata": {},
   "source": [
    "### 7. Explain in three to four sentences what is causing the differences between the following two confusion matrices below, and why the two confusion matrices above (for *clf* and *clf2*) are better<br>\n",
    "\n",
    "```python\n",
    "ConfusionMatrixDisplay(\n",
    "    confusion_matrix(ab_reduced_noNaN_train.your_actual_outcome_variable, \n",
    "                     clf.predict(ab_reduced_noNaN_train[['List Price']]), \n",
    "                     labels=[0, 1]), display_labels=[\"Paper\",\"Hard\"]).plot()\n",
    "ConfusionMatrixDisplay(\n",
    "    confusion_matrix(ab_reduced_noNaN_train.your_actual_outcome_variable, \n",
    "                     clf.predict(\n",
    "                         ab_reduced_noNaN_train[['NumPages','Thick','List Price']]), \n",
    "                     labels=[0, 1]), display_labels=[\"Paper\",\"Hard\"]).plot()\n",
    "```\n",
    "\n",
    "\n",
    "<details class=\"details-example\"><summary style=\"color:blue\"><u>Further Guidance</u></summary>\n",
    "    \n",
    "> _Don't forget to ask for summaries of all your different ChatBot sessions and organize and paste these into your homework notebook (including link(s) to chat log histories if you're using ChatBot); but, if you're using the STA130 custom NBLM ChatBot, you'll only be able to ask for summaries, of course!_ \n",
    "    \n",
    "</details>"
   ]
  },
  {
   "cell_type": "markdown",
   "id": "cb85cf46",
   "metadata": {},
   "source": [
    "\n",
    "The differences between the two confusion matrices arise from the models' input features. In the first matrix, the \n",
    "classifier (clf) only uses the List Price feature to make predictions, which might not capture the full complexity of the relationships in the data. In the second matrix, the classifier uses additional features (NumPages, Thick, and List Price), potentially improving predictive performance by leveraging more relevant information.\n",
    "\n",
    "The confusion matrices for clf and clf2 are better because they represent models trained and evaluated using features that capture a broader range of information, leading to more accurate predictions. By including these additional features, the model has a more nuanced understanding of the factors affecting the classification task, thereby improving its precision and recall."
   ]
  },
  {
   "cell_type": "markdown",
   "id": "4550f21b",
   "metadata": {},
   "source": [
    "https://chatgpt.com/share/673fd59d-ae30-8006-a76f-46e31fb5f22a"
   ]
  },
  {
   "cell_type": "markdown",
   "id": "526939c2",
   "metadata": {},
   "source": [
    "\n",
    "### 8. Read the paragraphs in *Further Guidance* and ask a ChatBot how to visualize *feature Importances* available for *scikit-learn* *classification decision trees*; do so for *clf2*;  and use *.feature_names_in_* corresponding to *.feature_importances_* to report which *predictor variable* is most important for making predictions according to *clf2*<br>\n",
    "\n",
    "\n",
    "<details class=\"details-example\"><summary style=\"color:blue\"><u>Further Guidance</u></summary>\n",
    "  \n",
    "> The way a **classification decision tree** is fit is that at each step in the construction process of adding a new **decision node splitting rule** to the current **tree structure**, all possible **decision rules** for all possible **predictor variables** are considered, and the combination that improves the **prediction** the most (as measured by the criterion of either \"Gini impurity\" or \"Shannon entropy\") and in accordance with the rules of the decision tree (such as the `max_depth` argument) is added to the **classification decision tree**.  Thus overall \"criterion\" noted above improves with each new **decision node splitting rule**, so the improvement can thus be tracked and the improvement contributions attributed to the **feature** upon which the **decision node splitting rule** is based.  This means the relative contribution of each **predictor variable** to the overall explanatory power of the model can be calculated, and this is what the `.feature_importances_` attribute does. \n",
    ">\n",
    "> Compared to the simplicity of understanding how different **covariates** contribute towards the final **predicted values** of **multiple linear regression models** (by just reading off the equation to see how predictions work), the the complexity of how all the different **features** interact and combine to together to create the final **predictions** from **classification decision trees** can be staggering. But the so-called **feature importance** heuristics allows us to judge how relatively important the overall contributions from different features are in the final decision tree predictions. Now we just need to be sure we're not **overfitting** our **classification decision trees** since they can be so **complex**. Fortunately, the \"GridSearchCV\" methodology mentioned in regards to finding the best `max_depth` setting for a tree is going to provide a general answer to the challenge of complexity and **overfitting** in **machine learning models** that is not too hard to understand (and which you might already have some guesses or a hunch about). \n",
    "> \n",
    "> ---\n",
    "> \n",
    "> _Don't forget to ask for summaries of all your different ChatBot sessions and organize and paste these into your homework notebook (including link(s) to chat log histories if you're using ChatBot); but, if you're using the STA130 custom NBLM ChatBot, you'll only be able to ask for summaries, of course!_ \n",
    "       \n",
    "</details>"
   ]
  },
  {
   "cell_type": "markdown",
   "id": "3eb7d92c",
   "metadata": {},
   "source": [
    "### 9. Describe the differences of interpreting coefficients in linear model regression versus feature importances in decision trees in two to three sentences<br>\n",
    "\n",
    "<details class=\"details-example\"><summary style=\"color:blue\"><u>Further Guidance</u></summary>\n",
    "\n",
    "> _Linear model regression predicts continuous real-valued averages for a given configuration of covariate values (or, feature values, if we're using machine learning terminology instead of statistical terminology), whereas a binary classification model such as a binary classification tree predicts 0/1 (\"yes\" or \"no\") outcomes (and gives the probability of a 1 \"yes\" (or \"success\") outcome from which a 1/0 \"yes\"/\"no\" prediction can be made; but, this is not what is being asked here. This question is asking \"what's the difference in the way we can interpret and understand how the predictor variables influence the predictions in linear model regression based on the coefficients versus in binary decision trees based on the Feature Importances?\"_\n",
    ">    \n",
    "> ---\n",
    "> \n",
    "> _Don't forget to ask for summaries of all your different ChatBot sessions and organize and paste these into your homework notebook (including link(s) to chat log histories if you're using ChatBot); but, if you're using the STA130 custom NBLM ChatBot, you'll only be able to ask for summaries, of course!_ \n",
    "    \n",
    "</details>"
   ]
  },
  {
   "cell_type": "markdown",
   "id": "bf6fb0cb",
   "metadata": {},
   "source": [
    "### 10. Have you reviewed the course wiki-textbook and interacted with a ChatBot (or, if that wasn't sufficient, real people in the course piazza discussion board or TA office hours) to help you understand all the material in the tutorial and lecture that you didn't quite follow when you first saw it?<br>\n",
    "  \n",
    "<details class=\"details-example\"><summary style=\"color:blue\"><u>Further Guidance</u></summary>\n",
    "\n",
    ">  _Here is the link of [wiki-textbook](https://github.com/pointOfive/stat130chat130/wiki) in case it gets lost among all the information you need to keep track of_  : )\n",
    "> \n",
    "> _Just answering \"Yes\" or \"No\" or \"Somewhat\" or \"Mostly\" or whatever here is fine as this question isn't a part of the rubric; but, the midterm and final exams may ask questions that are based on the tutorial and lecture materials; and, your own skills will be limited by your familiarity with these materials (which will determine your ability to actually do actual things effectively with these skills... like the course project...)_\n",
    "    \n",
    "</details>"
   ]
  },
  {
   "cell_type": "markdown",
   "id": "d2436778",
   "metadata": {},
   "source": [
    "# Recommended Additional Useful Activities [Optional]\n",
    "\n",
    "The \"Ethical Profesionalism Considerations\" and \"Current Course Project Capability Level\" sections below **are not a part of the required homework assignment**; rather, they are regular weekly guides covering (a) relevant considerations regarding professional and ethical conduct, and (b) the analysis steps for the STA130 course project that are feasible at the current stage of the course \n",
    "\n",
    "<br>\n",
    "<details class=\"details-example\"><summary style=\"color:blue\"><u>Ethical Professionalism Considerations</u></summary>\n",
    "\n",
    "### Ethical Professionalism Considerations\n",
    "\n",
    "- Discuss with a ChatBox about consent and data collection for training models.\n",
    "    - Discuss the ethics of data collection for training decision trees, particularly the need for informed consent when personal data is involved.\n",
    "    - Evaluate the role of regulatory frameworks in ensuring ethical data collection practices.\n",
    "- Discuss with a ChatBox about accountability in automated decision-making.\n",
    "    - Address the challenges of holding systems and their developers accountable when decision trees lead to adverse outcomes.\n",
    "    - Explore legal and ethical frameworks for responsibility when automated decisions go wrong.\n",
    "- Discuss with a ChatBox about transparency and explainability in classification models.\n",
    "    - Discuss the importance of model transparency, particularly when using decision trees in sectors like healthcare or criminal justice.\n",
    "    - Explore methods to enhance the explainability of decision trees, such as visualization techniques and simplified decision paths.\n",
    "- Discuss with a ChatBox about impact of misclassifications in critical applications.\n",
    "    - Examine the consequences of false positives and false negatives in decision tree outcomes, using confusion matrices to highlight these issues.\n",
    "    - Discuss ethical responsibilities when deploying classifiers in high-stakes fields like medicine or law enforcement.\n",
    "    \n",
    "</details>    \n",
    "\n",
    "<details class=\"details-example\"><summary style=\"color:blue\"><u>Current Course Project Capability Level</u></summary>\n",
    "\n",
    "**Remember to abide by the [data use agreement](https://static1.squarespace.com/static/60283c2e174c122f8ebe0f39/t/6239c284d610f76fed5a2e69/1647952517436/Data+Use+Agreement+for+the+Canadian+Social+Connection+Survey.pdf) at all times.**\n",
    "\n",
    "Information about the course project is available on the course github repo [here](https://github.com/pointOfive/stat130chat130/tree/main/CP), including a draft [course project specfication](https://github.com/pointOfive/stat130chat130/blob/main/CP/STA130F23_course_project_specification.ipynb) (subject to change). \n",
    "- The Week 01 HW introduced [STA130F24_CourseProject.ipynb](https://github.com/pointOfive/stat130chat130/blob/main/CP/STA130F24_CourseProject.ipynb), and the [available variables](https://drive.google.com/file/d/1ISVymGn-WR1lcRs4psIym2N3or5onNBi/view). \n",
    "- Please do not download the [data](https://drive.google.com/file/d/1mbUQlMTrNYA7Ly5eImVRBn16Ehy9Lggo/view) accessible at the bottom of the [CSCS](https://casch.org/cscs) webpage (or the course github repo) multiple times.\n",
    "    \n",
    "\n",
    "> ### NEW DEVELOPMENT<br>New Abilities Achieved and New Levels Unlocked!!!    \n",
    "> \n",
    "> And with that, ALL LEVELS unlocked! \n",
    ">\n",
    "> CONGRATS, YOU LEGENDS! 🎉\n",
    ">\n",
    "> You’ve battled through the wild jungles of deadlines, defeated the mighty Homework Beasts, and climbed the towering Mount Procrastination. And guess what? YOU MADE IT TO THE TOP! 🏔️\n",
    "> \n",
    "> Take a bow, grab a treat, and enjoy the sweet, sweet taste of freedom(**just for now , because you still have to finish the project! But you are almost done!**). You’ve earned it. Now go out there and celebrate like the absolute rockstars you are! 🌟💪\n",
    ">\n",
    "\n",
    "    \n",
    "### Current Course Project Capability Level    \n",
    "    \n",
    "I mean, the **course project** is basically, like, essentially now.\n",
    "    \n",
    "- Will you be doing any **classification decision trees** stuff for the course project?\n",
    "    - You could consider making some [partial dependency plots](https://scikit-learn.org/stable/modules/partial_dependence.html) if so...\n",
    "    - those might provide an interesting analysis in addition to **tree structure** visualizations, **confusion matrices**, **feature importances**. and the standard \"in-sample versus out-of-sample\" **train-test validation** analysis that would be expected in a **machine learning context**\n",
    "    \n",
    "- You could see if there are any interesting columns that might make for a potentially interesting **classification decision tree** analysis\n",
    "    - You wouldn't have to though...\n",
    "    - But if you did you'd want to be able to articulate and explain why what you're doing with **classification decision trees** is appropriate and enlightening\n",
    "\n",
    "- Anyway, I guess that just leaves reviewing all the statistical techniques covered in STA130, and considering integrating them holistically into your project!\n",
    "    \n",
    "</details>        "
   ]
  },
  {
   "cell_type": "code",
   "execution_count": null,
   "id": "524759d7",
   "metadata": {},
   "outputs": [],
   "source": []
  }
 ],
 "metadata": {
  "kernelspec": {
   "display_name": "Python 3 (ipykernel)",
   "language": "python",
   "name": "python3"
  },
  "language_info": {
   "codemirror_mode": {
    "name": "ipython",
    "version": 3
   },
   "file_extension": ".py",
   "mimetype": "text/x-python",
   "name": "python",
   "nbconvert_exporter": "python",
   "pygments_lexer": "ipython3",
   "version": "3.11.6"
  }
 },
 "nbformat": 4,
 "nbformat_minor": 5
}
